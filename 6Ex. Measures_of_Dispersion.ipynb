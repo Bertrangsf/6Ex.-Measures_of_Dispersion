{
 "cells": [
  {
   "cell_type": "markdown",
   "metadata": {},
   "source": [
    "### Excercise - Measures of Dispersion"
   ]
  },
  {
   "cell_type": "markdown",
   "metadata": {},
   "source": [
    "#### 1.1 What is the range for the data set?"
   ]
  },
  {
   "cell_type": "code",
   "execution_count": 4,
   "metadata": {},
   "outputs": [
    {
     "name": "stdout",
     "output_type": "stream",
     "text": [
      "29\n"
     ]
    }
   ],
   "source": [
    "points = [-4,  17,  25,  19,  6,  11,  7]\n",
    "points_range = max(points)-min(points)\n",
    "print(points_range)"
   ]
  },
  {
   "cell_type": "markdown",
   "metadata": {},
   "source": [
    "#### 1.2 Given the following dataset, How does the standard deviation change when 6 is replaced with 12? Does it increase, or decrease, or it remains the same?"
   ]
  },
  {
   "cell_type": "code",
   "execution_count": 5,
   "metadata": {},
   "outputs": [
    {
     "name": "stdout",
     "output_type": "stream",
     "text": [
      "the standard deviation increase\n"
     ]
    }
   ],
   "source": [
    "data = [2,4,7,1,6,8]\n",
    "modified_data = [2,4,7,1,12,8]\n",
    "\n",
    "import statistics as stats\n",
    "\n",
    "if stats.stdev(data) > stats.stdev(modified_data):\n",
    "    print(\"the standard deviation decrease\")\n",
    "\n",
    "elif stats.stdev(data) < stats.stdev(modified_data):\n",
    "    print(\"the standard deviation increase\")"
   ]
  },
  {
   "cell_type": "markdown",
   "metadata": {},
   "source": [
    "#### 1.3 Is is possible to have a dataset with 0 standard deviation or variance? If yes, can you think of any dataset with 6 data points that have 0 standard deviation?"
   ]
  },
  {
   "cell_type": "code",
   "execution_count": 6,
   "metadata": {},
   "outputs": [
    {
     "data": {
      "text/plain": [
       "0.0"
      ]
     },
     "execution_count": 6,
     "metadata": {},
     "output_type": "execute_result"
    }
   ],
   "source": [
    "# YES\n",
    "dataset_No_Variance = [1,1,1,1,1,1]\n",
    "stats.stdev(dataset_No_Variance)"
   ]
  },
  {
   "cell_type": "markdown",
   "metadata": {},
   "source": [
    "#### 1.4 We know that standard deviation is a measure of spread in the dataset. What is meant by deviation here? What is the formula for calculating deviation? Can deviation be negative?"
   ]
  },
  {
   "cell_type": "markdown",
   "metadata": {},
   "source": [
    "- Deviation is the dispersion of the data in the database\n",
    "- statistics.stdev(database)\n",
    "- NO"
   ]
  },
  {
   "cell_type": "markdown",
   "metadata": {},
   "source": [
    "#### 1.5 Given the dataset in the list: What is the deviation from the mean for each of the points in the list? Write a for loop and print each of the values"
   ]
  },
  {
   "cell_type": "code",
   "execution_count": 7,
   "metadata": {},
   "outputs": [
    {
     "name": "stdout",
     "output_type": "stream",
     "text": [
      "Deviation for item:  23 is:  -18.5\n",
      "Deviation for item:  12 is:  -29.5\n",
      "Deviation for item:  34 is:  -7.5\n",
      "Deviation for item:  65 is:  23.5\n",
      "Deviation for item:  34 is:  -7.5\n",
      "Deviation for item:  81 is:  39.5\n"
     ]
    }
   ],
   "source": [
    "data = [23, 12, 34, 65, 34, 81]\n",
    "for item in data:\n",
    "    print(\"Deviation for item: \", item, \"is: \", item - stats.mean(data))"
   ]
  },
  {
   "cell_type": "markdown",
   "metadata": {},
   "source": [
    "#### 1.6 How is standard deviation different than variance?"
   ]
  },
  {
   "cell_type": "markdown",
   "metadata": {},
   "source": [
    "Variance is the average squared deviations from the mean, while standard deviation is the square root of this number. Both measures reflect variability in a distribution, but their units differ: Standard deviation is expressed in the same units as the original values (e.g., minutes or meters)."
   ]
  },
  {
   "cell_type": "code",
   "execution_count": null,
   "metadata": {},
   "outputs": [],
   "source": []
  }
 ],
 "metadata": {
  "kernelspec": {
   "display_name": "Python 3",
   "language": "python",
   "name": "python3"
  },
  "language_info": {
   "codemirror_mode": {
    "name": "ipython",
    "version": 3
   },
   "file_extension": ".py",
   "mimetype": "text/x-python",
   "name": "python",
   "nbconvert_exporter": "python",
   "pygments_lexer": "ipython3",
   "version": "3.8.5"
  }
 },
 "nbformat": 4,
 "nbformat_minor": 4
}
